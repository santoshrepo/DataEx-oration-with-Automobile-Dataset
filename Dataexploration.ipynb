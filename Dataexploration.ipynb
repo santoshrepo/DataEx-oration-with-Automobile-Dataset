{
 "cells": [
  {
   "cell_type": "code",
   "execution_count": 23,
   "metadata": {},
   "outputs": [],
   "source": [
    "import pandas as pd\n",
    "import numpy as np\n",
    "import matplotlib.pyplot as plt\n"
   ]
  },
  {
   "cell_type": "code",
   "execution_count": 24,
   "metadata": {},
   "outputs": [],
   "source": [
    "#Task 1: Data Preparation\n",
    "#Step 1.1 :Importing the csv\n",
    "my_data_automobile = pd.read_csv('Automobile.csv', sep=\"#\",decimal='.',header=None,names=['symboling','normalized-losses','make','fuel-type','aspiration','num-of-doors','body-style','drive-wheels',\n",
    "                                                                          'engine-location','wheel-base','length','width','height','curb-weight','engine-type','num-of-cylinders','engine-size',\n",
    "                                                                         'fuel-system','bore','stroke','compression-ratio','horsepower','peak-rpm','city-mpg','highway-mpg','price'],encoding=\"utf-8\")"
   ]
  },
  {
   "cell_type": "code",
   "execution_count": 25,
   "metadata": {},
   "outputs": [
    {
     "data": {
      "text/html": [
       "<div>\n",
       "<style scoped>\n",
       "    .dataframe tbody tr th:only-of-type {\n",
       "        vertical-align: middle;\n",
       "    }\n",
       "\n",
       "    .dataframe tbody tr th {\n",
       "        vertical-align: top;\n",
       "    }\n",
       "\n",
       "    .dataframe thead th {\n",
       "        text-align: right;\n",
       "    }\n",
       "</style>\n",
       "<table border=\"1\" class=\"dataframe\">\n",
       "  <thead>\n",
       "    <tr style=\"text-align: right;\">\n",
       "      <th></th>\n",
       "      <th>symboling</th>\n",
       "      <th>normalized-losses</th>\n",
       "      <th>make</th>\n",
       "      <th>fuel-type</th>\n",
       "      <th>aspiration</th>\n",
       "      <th>num-of-doors</th>\n",
       "      <th>body-style</th>\n",
       "      <th>drive-wheels</th>\n",
       "      <th>engine-location</th>\n",
       "      <th>wheel-base</th>\n",
       "      <th>...</th>\n",
       "      <th>engine-size</th>\n",
       "      <th>fuel-system</th>\n",
       "      <th>bore</th>\n",
       "      <th>stroke</th>\n",
       "      <th>compression-ratio</th>\n",
       "      <th>horsepower</th>\n",
       "      <th>peak-rpm</th>\n",
       "      <th>city-mpg</th>\n",
       "      <th>highway-mpg</th>\n",
       "      <th>price</th>\n",
       "    </tr>\n",
       "  </thead>\n",
       "  <tbody>\n",
       "    <tr>\n",
       "      <th>0</th>\n",
       "      <td>3</td>\n",
       "      <td>NaN</td>\n",
       "      <td>alfa-romero</td>\n",
       "      <td>gas</td>\n",
       "      <td>std</td>\n",
       "      <td>two</td>\n",
       "      <td>convertible</td>\n",
       "      <td>rwd</td>\n",
       "      <td>front</td>\n",
       "      <td>88.6</td>\n",
       "      <td>...</td>\n",
       "      <td>130</td>\n",
       "      <td>mpfi</td>\n",
       "      <td>3.47</td>\n",
       "      <td>2.68</td>\n",
       "      <td>9.0</td>\n",
       "      <td>111.0</td>\n",
       "      <td>5000.0</td>\n",
       "      <td>21</td>\n",
       "      <td>27</td>\n",
       "      <td>13495.0</td>\n",
       "    </tr>\n",
       "    <tr>\n",
       "      <th>1</th>\n",
       "      <td>3</td>\n",
       "      <td>NaN</td>\n",
       "      <td>alfa-romero</td>\n",
       "      <td>gas</td>\n",
       "      <td>std</td>\n",
       "      <td>two</td>\n",
       "      <td>convertible</td>\n",
       "      <td>rwd</td>\n",
       "      <td>front</td>\n",
       "      <td>88.6</td>\n",
       "      <td>...</td>\n",
       "      <td>130</td>\n",
       "      <td>mpfi</td>\n",
       "      <td>3.47</td>\n",
       "      <td>2.68</td>\n",
       "      <td>9.0</td>\n",
       "      <td>111.0</td>\n",
       "      <td>5000.0</td>\n",
       "      <td>21</td>\n",
       "      <td>27</td>\n",
       "      <td>16500.0</td>\n",
       "    </tr>\n",
       "    <tr>\n",
       "      <th>2</th>\n",
       "      <td>1</td>\n",
       "      <td>NaN</td>\n",
       "      <td>alfa-romero</td>\n",
       "      <td>gas</td>\n",
       "      <td>std</td>\n",
       "      <td>two</td>\n",
       "      <td>hatchback</td>\n",
       "      <td>rwd</td>\n",
       "      <td>front</td>\n",
       "      <td>94.5</td>\n",
       "      <td>...</td>\n",
       "      <td>152</td>\n",
       "      <td>mpfi</td>\n",
       "      <td>2.68</td>\n",
       "      <td>3.47</td>\n",
       "      <td>9.0</td>\n",
       "      <td>154.0</td>\n",
       "      <td>5000.0</td>\n",
       "      <td>19</td>\n",
       "      <td>26</td>\n",
       "      <td>16500.0</td>\n",
       "    </tr>\n",
       "    <tr>\n",
       "      <th>3</th>\n",
       "      <td>2</td>\n",
       "      <td>164.0</td>\n",
       "      <td>audi</td>\n",
       "      <td>gas</td>\n",
       "      <td>std</td>\n",
       "      <td>four</td>\n",
       "      <td>sedan</td>\n",
       "      <td>fwd</td>\n",
       "      <td>front</td>\n",
       "      <td>99.8</td>\n",
       "      <td>...</td>\n",
       "      <td>109</td>\n",
       "      <td>mpfi</td>\n",
       "      <td>3.19</td>\n",
       "      <td>3.40</td>\n",
       "      <td>10.0</td>\n",
       "      <td>102.0</td>\n",
       "      <td>5500.0</td>\n",
       "      <td>24</td>\n",
       "      <td>30</td>\n",
       "      <td>13950.0</td>\n",
       "    </tr>\n",
       "    <tr>\n",
       "      <th>4</th>\n",
       "      <td>2</td>\n",
       "      <td>164.0</td>\n",
       "      <td>audi</td>\n",
       "      <td>gas</td>\n",
       "      <td>std</td>\n",
       "      <td>four</td>\n",
       "      <td>sedan</td>\n",
       "      <td>4wd</td>\n",
       "      <td>front</td>\n",
       "      <td>99.4</td>\n",
       "      <td>...</td>\n",
       "      <td>136</td>\n",
       "      <td>mpfi</td>\n",
       "      <td>3.19</td>\n",
       "      <td>3.40</td>\n",
       "      <td>8.0</td>\n",
       "      <td>115.0</td>\n",
       "      <td>5500.0</td>\n",
       "      <td>18</td>\n",
       "      <td>22</td>\n",
       "      <td>17450.0</td>\n",
       "    </tr>\n",
       "  </tbody>\n",
       "</table>\n",
       "<p>5 rows × 26 columns</p>\n",
       "</div>"
      ],
      "text/plain": [
       "   symboling  normalized-losses         make fuel-type aspiration  \\\n",
       "0          3                NaN  alfa-romero       gas        std   \n",
       "1          3                NaN  alfa-romero       gas        std   \n",
       "2          1                NaN  alfa-romero       gas        std   \n",
       "3          2              164.0         audi       gas        std   \n",
       "4          2              164.0         audi       gas        std   \n",
       "\n",
       "  num-of-doors   body-style drive-wheels engine-location  wheel-base   ...     \\\n",
       "0          two  convertible          rwd           front        88.6   ...      \n",
       "1          two  convertible          rwd           front        88.6   ...      \n",
       "2          two    hatchback          rwd           front        94.5   ...      \n",
       "3         four        sedan          fwd           front        99.8   ...      \n",
       "4         four        sedan          4wd           front        99.4   ...      \n",
       "\n",
       "   engine-size  fuel-system  bore  stroke compression-ratio horsepower  \\\n",
       "0          130         mpfi  3.47    2.68               9.0      111.0   \n",
       "1          130         mpfi  3.47    2.68               9.0      111.0   \n",
       "2          152         mpfi  2.68    3.47               9.0      154.0   \n",
       "3          109         mpfi  3.19    3.40              10.0      102.0   \n",
       "4          136         mpfi  3.19    3.40               8.0      115.0   \n",
       "\n",
       "   peak-rpm city-mpg  highway-mpg    price  \n",
       "0    5000.0       21           27  13495.0  \n",
       "1    5000.0       21           27  16500.0  \n",
       "2    5000.0       19           26  16500.0  \n",
       "3    5500.0       24           30  13950.0  \n",
       "4    5500.0       18           22  17450.0  \n",
       "\n",
       "[5 rows x 26 columns]"
      ]
     },
     "execution_count": 25,
     "metadata": {},
     "output_type": "execute_result"
    }
   ],
   "source": [
    "#displaying the tables\n",
    "my_data_automobile.head()"
   ]
  },
  {
   "cell_type": "code",
   "execution_count": 26,
   "metadata": {},
   "outputs": [
    {
     "data": {
      "text/html": [
       "<div>\n",
       "<style scoped>\n",
       "    .dataframe tbody tr th:only-of-type {\n",
       "        vertical-align: middle;\n",
       "    }\n",
       "\n",
       "    .dataframe tbody tr th {\n",
       "        vertical-align: top;\n",
       "    }\n",
       "\n",
       "    .dataframe thead th {\n",
       "        text-align: right;\n",
       "    }\n",
       "</style>\n",
       "<table border=\"1\" class=\"dataframe\">\n",
       "  <thead>\n",
       "    <tr style=\"text-align: right;\">\n",
       "      <th></th>\n",
       "      <th>symboling</th>\n",
       "      <th>normalized-losses</th>\n",
       "      <th>wheel-base</th>\n",
       "      <th>length</th>\n",
       "      <th>width</th>\n",
       "      <th>height</th>\n",
       "      <th>curb-weight</th>\n",
       "      <th>engine-size</th>\n",
       "      <th>bore</th>\n",
       "      <th>stroke</th>\n",
       "      <th>compression-ratio</th>\n",
       "      <th>horsepower</th>\n",
       "      <th>peak-rpm</th>\n",
       "      <th>city-mpg</th>\n",
       "      <th>highway-mpg</th>\n",
       "      <th>price</th>\n",
       "    </tr>\n",
       "  </thead>\n",
       "  <tbody>\n",
       "    <tr>\n",
       "      <th>count</th>\n",
       "      <td>238.000000</td>\n",
       "      <td>191.000000</td>\n",
       "      <td>238.00000</td>\n",
       "      <td>238.000000</td>\n",
       "      <td>238.000000</td>\n",
       "      <td>238.000000</td>\n",
       "      <td>238.000000</td>\n",
       "      <td>238.000000</td>\n",
       "      <td>234.000000</td>\n",
       "      <td>234.000000</td>\n",
       "      <td>238.000000</td>\n",
       "      <td>236.000000</td>\n",
       "      <td>236.000000</td>\n",
       "      <td>238.000000</td>\n",
       "      <td>238.000000</td>\n",
       "      <td>234.000000</td>\n",
       "    </tr>\n",
       "    <tr>\n",
       "      <th>mean</th>\n",
       "      <td>0.642857</td>\n",
       "      <td>116.863874</td>\n",
       "      <td>100.15042</td>\n",
       "      <td>176.094538</td>\n",
       "      <td>66.306303</td>\n",
       "      <td>53.987815</td>\n",
       "      <td>2628.159664</td>\n",
       "      <td>129.575630</td>\n",
       "      <td>3.361282</td>\n",
       "      <td>3.243120</td>\n",
       "      <td>10.458908</td>\n",
       "      <td>107.152542</td>\n",
       "      <td>5140.889831</td>\n",
       "      <td>24.638655</td>\n",
       "      <td>30.016807</td>\n",
       "      <td>13696.081197</td>\n",
       "    </tr>\n",
       "    <tr>\n",
       "      <th>std</th>\n",
       "      <td>1.360446</td>\n",
       "      <td>36.171118</td>\n",
       "      <td>6.59659</td>\n",
       "      <td>12.534385</td>\n",
       "      <td>2.230344</td>\n",
       "      <td>2.366944</td>\n",
       "      <td>517.099334</td>\n",
       "      <td>39.453019</td>\n",
       "      <td>0.290631</td>\n",
       "      <td>0.301348</td>\n",
       "      <td>4.384463</td>\n",
       "      <td>38.288297</td>\n",
       "      <td>456.806273</td>\n",
       "      <td>6.357468</td>\n",
       "      <td>6.681397</td>\n",
       "      <td>8060.776465</td>\n",
       "    </tr>\n",
       "    <tr>\n",
       "      <th>min</th>\n",
       "      <td>-2.000000</td>\n",
       "      <td>25.000000</td>\n",
       "      <td>86.60000</td>\n",
       "      <td>141.100000</td>\n",
       "      <td>60.300000</td>\n",
       "      <td>47.800000</td>\n",
       "      <td>1488.000000</td>\n",
       "      <td>61.000000</td>\n",
       "      <td>2.540000</td>\n",
       "      <td>2.070000</td>\n",
       "      <td>7.000000</td>\n",
       "      <td>48.000000</td>\n",
       "      <td>4150.000000</td>\n",
       "      <td>13.000000</td>\n",
       "      <td>16.000000</td>\n",
       "      <td>0.000000</td>\n",
       "    </tr>\n",
       "    <tr>\n",
       "      <th>25%</th>\n",
       "      <td>0.000000</td>\n",
       "      <td>94.000000</td>\n",
       "      <td>95.15000</td>\n",
       "      <td>168.700000</td>\n",
       "      <td>64.400000</td>\n",
       "      <td>52.000000</td>\n",
       "      <td>2224.750000</td>\n",
       "      <td>98.000000</td>\n",
       "      <td>3.150000</td>\n",
       "      <td>3.112500</td>\n",
       "      <td>8.700000</td>\n",
       "      <td>75.250000</td>\n",
       "      <td>4800.000000</td>\n",
       "      <td>19.000000</td>\n",
       "      <td>25.000000</td>\n",
       "      <td>7823.000000</td>\n",
       "    </tr>\n",
       "    <tr>\n",
       "      <th>50%</th>\n",
       "      <td>0.000000</td>\n",
       "      <td>104.000000</td>\n",
       "      <td>98.40000</td>\n",
       "      <td>175.500000</td>\n",
       "      <td>66.050000</td>\n",
       "      <td>54.400000</td>\n",
       "      <td>2548.000000</td>\n",
       "      <td>122.000000</td>\n",
       "      <td>3.350000</td>\n",
       "      <td>3.270000</td>\n",
       "      <td>9.000000</td>\n",
       "      <td>102.000000</td>\n",
       "      <td>5200.000000</td>\n",
       "      <td>24.000000</td>\n",
       "      <td>29.000000</td>\n",
       "      <td>11253.500000</td>\n",
       "    </tr>\n",
       "    <tr>\n",
       "      <th>75%</th>\n",
       "      <td>2.000000</td>\n",
       "      <td>145.000000</td>\n",
       "      <td>105.57500</td>\n",
       "      <td>188.800000</td>\n",
       "      <td>68.400000</td>\n",
       "      <td>55.500000</td>\n",
       "      <td>3049.000000</td>\n",
       "      <td>145.000000</td>\n",
       "      <td>3.620000</td>\n",
       "      <td>3.400000</td>\n",
       "      <td>9.500000</td>\n",
       "      <td>121.000000</td>\n",
       "      <td>5500.000000</td>\n",
       "      <td>28.750000</td>\n",
       "      <td>34.000000</td>\n",
       "      <td>17890.000000</td>\n",
       "    </tr>\n",
       "    <tr>\n",
       "      <th>max</th>\n",
       "      <td>4.000000</td>\n",
       "      <td>256.000000</td>\n",
       "      <td>120.90000</td>\n",
       "      <td>208.100000</td>\n",
       "      <td>72.300000</td>\n",
       "      <td>59.800000</td>\n",
       "      <td>4066.000000</td>\n",
       "      <td>326.000000</td>\n",
       "      <td>3.940000</td>\n",
       "      <td>4.170000</td>\n",
       "      <td>23.000000</td>\n",
       "      <td>288.000000</td>\n",
       "      <td>6600.000000</td>\n",
       "      <td>49.000000</td>\n",
       "      <td>54.000000</td>\n",
       "      <td>45400.000000</td>\n",
       "    </tr>\n",
       "  </tbody>\n",
       "</table>\n",
       "</div>"
      ],
      "text/plain": [
       "        symboling  normalized-losses  wheel-base      length       width  \\\n",
       "count  238.000000         191.000000   238.00000  238.000000  238.000000   \n",
       "mean     0.642857         116.863874   100.15042  176.094538   66.306303   \n",
       "std      1.360446          36.171118     6.59659   12.534385    2.230344   \n",
       "min     -2.000000          25.000000    86.60000  141.100000   60.300000   \n",
       "25%      0.000000          94.000000    95.15000  168.700000   64.400000   \n",
       "50%      0.000000         104.000000    98.40000  175.500000   66.050000   \n",
       "75%      2.000000         145.000000   105.57500  188.800000   68.400000   \n",
       "max      4.000000         256.000000   120.90000  208.100000   72.300000   \n",
       "\n",
       "           height  curb-weight  engine-size        bore      stroke  \\\n",
       "count  238.000000   238.000000   238.000000  234.000000  234.000000   \n",
       "mean    53.987815  2628.159664   129.575630    3.361282    3.243120   \n",
       "std      2.366944   517.099334    39.453019    0.290631    0.301348   \n",
       "min     47.800000  1488.000000    61.000000    2.540000    2.070000   \n",
       "25%     52.000000  2224.750000    98.000000    3.150000    3.112500   \n",
       "50%     54.400000  2548.000000   122.000000    3.350000    3.270000   \n",
       "75%     55.500000  3049.000000   145.000000    3.620000    3.400000   \n",
       "max     59.800000  4066.000000   326.000000    3.940000    4.170000   \n",
       "\n",
       "       compression-ratio  horsepower     peak-rpm    city-mpg  highway-mpg  \\\n",
       "count         238.000000  236.000000   236.000000  238.000000   238.000000   \n",
       "mean           10.458908  107.152542  5140.889831   24.638655    30.016807   \n",
       "std             4.384463   38.288297   456.806273    6.357468     6.681397   \n",
       "min             7.000000   48.000000  4150.000000   13.000000    16.000000   \n",
       "25%             8.700000   75.250000  4800.000000   19.000000    25.000000   \n",
       "50%             9.000000  102.000000  5200.000000   24.000000    29.000000   \n",
       "75%             9.500000  121.000000  5500.000000   28.750000    34.000000   \n",
       "max            23.000000  288.000000  6600.000000   49.000000    54.000000   \n",
       "\n",
       "              price  \n",
       "count    234.000000  \n",
       "mean   13696.081197  \n",
       "std     8060.776465  \n",
       "min        0.000000  \n",
       "25%     7823.000000  \n",
       "50%    11253.500000  \n",
       "75%    17890.000000  \n",
       "max    45400.000000  "
      ]
     },
     "execution_count": 26,
     "metadata": {},
     "output_type": "execute_result"
    }
   ],
   "source": [
    "#Summary about the data set(my_data_automobile)\n",
    "my_data_automobile.describe()"
   ]
  },
  {
   "cell_type": "code",
   "execution_count": 27,
   "metadata": {},
   "outputs": [],
   "source": [
    "#Step 1.2 :Remove white spaces in all columns\n",
    "def remove_whitespace(x):\n",
    "    if isinstance(x, basestring):\n",
    "        return x.strip()\n",
    "    else:\n",
    "        return x\n",
    "my_data_automobile = my_data_automobile.applymap(remove_whitespace)"
   ]
  },
  {
   "cell_type": "code",
   "execution_count": 28,
   "metadata": {},
   "outputs": [],
   "source": [
    "#Convert all the column values into lower cases\n",
    "def remove_letter(x):\n",
    "    if isinstance(x, basestring):\n",
    "        return x.lower()\n",
    "    else:\n",
    "        return x\n",
    "my_data_automobile = my_data_automobile.applymap(remove_letter)"
   ]
  },
  {
   "cell_type": "code",
   "execution_count": 29,
   "metadata": {},
   "outputs": [],
   "source": [
    "#Step 1.3 & 1.4 Typo errors and sanity checks for impossible values\n",
    "my_data_automobile['symboling'] = my_data_automobile['symboling'].replace(4,3)"
   ]
  },
  {
   "cell_type": "code",
   "execution_count": 30,
   "metadata": {},
   "outputs": [],
   "source": [
    "#Typo errors are handled with replace function.\n",
    "my_data_automobile['make'] = my_data_automobile['make'].str.replace('vol00112ov','volvo')\n",
    "my_data_automobile['aspiration'] = my_data_automobile['aspiration'].str.replace('turrrrbo','turbo')\n",
    "my_data_automobile['num-of-doors'] = my_data_automobile['num-of-doors'].str.replace('fourr', 'four')"
   ]
  },
  {
   "cell_type": "code",
   "execution_count": 31,
   "metadata": {},
   "outputs": [
    {
     "data": {
      "text/plain": [
       "symboling             0\n",
       "normalized-losses    47\n",
       "make                  0\n",
       "fuel-type             0\n",
       "aspiration            0\n",
       "num-of-doors          2\n",
       "body-style            0\n",
       "drive-wheels          0\n",
       "engine-location       0\n",
       "wheel-base            0\n",
       "length                0\n",
       "width                 0\n",
       "height                0\n",
       "curb-weight           0\n",
       "engine-type           0\n",
       "num-of-cylinders      0\n",
       "engine-size           0\n",
       "fuel-system           0\n",
       "bore                  4\n",
       "stroke                4\n",
       "compression-ratio     0\n",
       "horsepower            2\n",
       "peak-rpm              2\n",
       "city-mpg              0\n",
       "highway-mpg           0\n",
       "price                 4\n",
       "dtype: int64"
      ]
     },
     "execution_count": 31,
     "metadata": {},
     "output_type": "execute_result"
    }
   ],
   "source": [
    "#Step 1.5 : Checking Missing Values\n",
    "my_data_automobile.isnull().sum()"
   ]
  },
  {
   "cell_type": "code",
   "execution_count": 32,
   "metadata": {},
   "outputs": [],
   "source": [
    "#Checking volvo_price \n",
    "volvo_price = my_data_automobile[(my_data_automobile['make'] == 'volvo') & (my_data_automobile['price'] > 0)] "
   ]
  },
  {
   "cell_type": "code",
   "execution_count": 33,
   "metadata": {},
   "outputs": [],
   "source": [
    "#taking mean for volvo price alone\n",
    "volvo_price = volvo_price['price'].mean()"
   ]
  },
  {
   "cell_type": "code",
   "execution_count": 34,
   "metadata": {},
   "outputs": [],
   "source": [
    "#replace the volvo price in dataset\n",
    "my_data_automobile.replace({'price': {0: volvo_price}}, inplace = True)"
   ]
  },
  {
   "cell_type": "code",
   "execution_count": 35,
   "metadata": {},
   "outputs": [],
   "source": [
    "#fill the na values with mean\n",
    "my_data_automobile = my_data_automobile.fillna(my_data_automobile.mean(axis = 0))"
   ]
  },
  {
   "cell_type": "code",
   "execution_count": 36,
   "metadata": {},
   "outputs": [
    {
     "data": {
      "text/plain": [
       "symboling            0\n",
       "normalized-losses    0\n",
       "make                 0\n",
       "fuel-type            0\n",
       "aspiration           0\n",
       "num-of-doors         2\n",
       "body-style           0\n",
       "drive-wheels         0\n",
       "engine-location      0\n",
       "wheel-base           0\n",
       "length               0\n",
       "width                0\n",
       "height               0\n",
       "curb-weight          0\n",
       "engine-type          0\n",
       "num-of-cylinders     0\n",
       "engine-size          0\n",
       "fuel-system          0\n",
       "bore                 0\n",
       "stroke               0\n",
       "compression-ratio    0\n",
       "horsepower           0\n",
       "peak-rpm             0\n",
       "city-mpg             0\n",
       "highway-mpg          0\n",
       "price                0\n",
       "dtype: int64"
      ]
     },
     "execution_count": 36,
     "metadata": {},
     "output_type": "execute_result"
    }
   ],
   "source": [
    "#checking for missing values\n",
    "my_data_automobile.isnull().sum()"
   ]
  },
  {
   "cell_type": "code",
   "execution_count": 37,
   "metadata": {},
   "outputs": [],
   "source": [
    "#Dropping the entire row with drop_na function\n",
    "my_data_automobile.dropna(subset = ['num-of-doors'], how = 'all', inplace = True)"
   ]
  },
  {
   "cell_type": "code",
   "execution_count": 38,
   "metadata": {},
   "outputs": [
    {
     "data": {
      "text/plain": [
       "symboling            0\n",
       "normalized-losses    0\n",
       "make                 0\n",
       "fuel-type            0\n",
       "aspiration           0\n",
       "num-of-doors         0\n",
       "body-style           0\n",
       "drive-wheels         0\n",
       "engine-location      0\n",
       "wheel-base           0\n",
       "length               0\n",
       "width                0\n",
       "height               0\n",
       "curb-weight          0\n",
       "engine-type          0\n",
       "num-of-cylinders     0\n",
       "engine-size          0\n",
       "fuel-system          0\n",
       "bore                 0\n",
       "stroke               0\n",
       "compression-ratio    0\n",
       "horsepower           0\n",
       "peak-rpm             0\n",
       "city-mpg             0\n",
       "highway-mpg          0\n",
       "price                0\n",
       "dtype: int64"
      ]
     },
     "execution_count": 38,
     "metadata": {},
     "output_type": "execute_result"
    }
   ],
   "source": [
    "#Checking for null values\n",
    "my_data_automobile.isnull().sum()"
   ]
  },
  {
   "cell_type": "code",
   "execution_count": 51,
   "metadata": {},
   "outputs": [
    {
     "data": {
      "image/png": "[encoded data removed]",
      "text/plain": [
       "<Figure size 432x288 with 1 Axes>"
      ]
     },
     "metadata": {
      "needs_background": "light"
     },
     "output_type": "display_data"
    }
   ],
   "source": [
    "#Task 2 \n",
    "#Step 2.1.1 Creating histogram for oridinal value\n",
    "plt.hist(my_data_automobile['symboling'], bins=12 ,facecolor='black')\n",
    "plt.xlabel(\"Safety Level\")\n",
    "plt.ylabel(\"Frequency\")\n",
    "plt.title(\"Fig 2.1.1 Safety First\")\n",
    "plt.show()"
   ]
  },
  {
   "cell_type": "code",
   "execution_count": 42,
   "metadata": {},
   "outputs": [
    {
     "data": {
      "text/plain": [
       "<matplotlib.axes._subplots.AxesSubplot at 0xa50f160>"
      ]
     },
     "execution_count": 42,
     "metadata": {},
     "output_type": "execute_result"
    },
    {
     "data": {
      "image/png": "[encoded data removed]",
      "text/plain": [
       "<Figure size 432x288 with 1 Axes>"
      ]
     },
     "metadata": {},
     "output_type": "display_data"
    }
   ],
   "source": [
    "##Step 2.1.2 Creating Pie Chart for Nominal Value\n",
    "my_data_automobile['body-style'].value_counts().plot(kind='pie', legend=True,title=\"Fig 2.1.2 Body Style\",autopct='%.2f')"
   ]
  },
  {
   "cell_type": "code",
   "execution_count": 43,
   "metadata": {},
   "outputs": [
    {
     "data": {
      "text/plain": [
       "<matplotlib.axes._subplots.AxesSubplot at 0xab82b70>"
      ]
     },
     "execution_count": 43,
     "metadata": {},
     "output_type": "execute_result"
    },
    {
     "data": {
      "image/png": "[encoded data removed]",
      "text/plain": [
       "<Figure size 432x288 with 1 Axes>"
      ]
     },
     "metadata": {
      "needs_background": "light"
     },
     "output_type": "display_data"
    }
   ],
   "source": [
    "#Step 2.1.3 Creating Line grah for numeric value\n",
    "my_data_automobile['city-mpg'].plot.line(x='city-mpg',title=\"Fig 2.2.3 City Mileage\",legend='true')"
   ]
  },
  {
   "cell_type": "code",
   "execution_count": 52,
   "metadata": {},
   "outputs": [
    {
     "name": "stdout",
     "output_type": "stream",
     "text": [
      "Text(0.5,1,'Fig 2.2.1 Horsepower - highway mileage')\n"
     ]
    },
    {
     "data": {
      "image/png": "[encoded data removed]",
      "text/plain": [
       "<Figure size 432x288 with 1 Axes>"
      ]
     },
     "metadata": {
      "needs_background": "light"
     },
     "output_type": "display_data"
    }
   ],
   "source": [
    "#Step 2.2.1 Creating Scatter Plot for Horsepower - highway mileage\n",
    "plt.scatter(my_data_automobile['highway-mpg'],my_data_automobile['horsepower'])\n",
    "plt.xlabel('higway mileage')\n",
    "plt.ylabel('horsepower')\n",
    "print(plt.title('Fig 2.2.1 Horsepower - highway mileage'))"
   ]
  },
  {
   "cell_type": "code",
   "execution_count": 46,
   "metadata": {},
   "outputs": [
    {
     "data": {
      "text/plain": [
       "Text(0.5,1,'Fig 2.2.2 Relation between Make and Price')"
      ]
     },
     "execution_count": 46,
     "metadata": {},
     "output_type": "execute_result"
    },
    {
     "data": {
      "image/png": "[encoded data removed]",
      "text/plain": [
       "<Figure size 432x288 with 1 Axes>"
      ]
     },
     "metadata": {
      "needs_background": "light"
     },
     "output_type": "display_data"
    }
   ],
   "source": [
    "#Step 2.2.2 Creating Scatter Plot for Make - Price\n",
    "plt.scatter(my_data_automobile['price'],my_data_automobile['make'])\n",
    "plt.xlabel('price of Cars')\n",
    "plt.ylabel('Make of Car')\n",
    "plt.title(\"Fig 2.2.2 Relation between Make and Price\")"
   ]
  },
  {
   "cell_type": "code",
   "execution_count": 49,
   "metadata": {},
   "outputs": [
    {
     "data": {
      "text/plain": [
       "Text(0.5,1,'Fig 2.2.3 city-mpg - num-of-cylinders')"
      ]
     },
     "execution_count": 49,
     "metadata": {},
     "output_type": "execute_result"
    },
    {
     "data": {
      "image/png": "[encoded data removed]",
      "text/plain": [
       "<Figure size 432x288 with 1 Axes>"
      ]
     },
     "metadata": {
      "needs_background": "light"
     },
     "output_type": "display_data"
    }
   ],
   "source": [
    "#Step 2.2.3 Creating Scatter Plot for City-mpg -  number of cylinders\n",
    "plt.scatter(my_data_automobile['num-of-cylinders'],my_data_automobile['city-mpg'])\n",
    "plt.xlabel('num-of-cylinders')\n",
    "plt.ylabel('city-mpg')\n",
    "plt.title('Fig 2.2.3 city-mpg - num-of-cylinders')"
   ]
  },
  {
   "cell_type": "code",
   "execution_count": null,
   "metadata": {},
   "outputs": [],
   "source": [
    "#Step 2.3 Creating a Scatter Plot for the\n",
    "from pandas.tools.plotting import scatter_matrix\n",
    "scat_mat = my_data_automobile[['normalized-losses', 'wheel-base', 'length', 'width', 'height', 'curb-weight','engine-size','bore', 'stroke', 'compression-ratio','horsepower','peak-rpm','city-mpg','highway-mpg','price']]\n",
    "scatter_matrix(scat_mat, figsize=(18, 18))\n",
    "plt.show()"
   ]
  },
  {
   "cell_type": "code",
   "execution_count": null,
   "metadata": {},
   "outputs": [],
   "source": []
  }
 ],
 "metadata": {
  "kernelspec": {
   "display_name": "Python 2",
   "language": "python",
   "name": "python2"
  },
  "language_info": {
   "codemirror_mode": {
    "name": "ipython",
    "version": 2
   },
   "file_extension": ".py",
   "mimetype": "text/x-python",
   "name": "python",
   "nbconvert_exporter": "python",
   "pygments_lexer": "ipython2",
   "version": "2.7.15"
  }
 },
 "nbformat": 4,
 "nbformat_minor": 2
}
